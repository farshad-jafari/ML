{
 "cells": [
  {
   "cell_type": "code",
   "execution_count": 32,
   "metadata": {},
   "outputs": [],
   "source": [
    "import pandas as pd\n",
    "import matplotlib.pyplot as plt\n",
    "import numpy as np\n",
    "from sklearn.metrics import precision_score\n",
    "%matplotlib inline"
   ]
  },
  {
   "cell_type": "code",
   "execution_count": 2,
   "metadata": {},
   "outputs": [],
   "source": [
    "mnist_train = pd.read_csv('utech-summer-school-99-Machine-Learning\\Datasets\\MNIST\\mnist_train.csv')\n",
    "mnist_test = pd.read_csv('utech-summer-school-99-Machine-Learning\\Datasets\\MNIST\\mnist_test.csv')"
   ]
  },
  {
   "cell_type": "code",
   "execution_count": 46,
   "metadata": {},
   "outputs": [],
   "source": [
    "\n",
    "Data = mnist_train.to_numpy()\n",
    "np.random.seed = 0\n",
    "data = Data[np.random.permutation(Data.shape[0])]\n",
    "\n",
    "test = mnist_test.to_numpy()\n"
   ]
  },
  {
   "cell_type": "code",
   "execution_count": 47,
   "metadata": {},
   "outputs": [],
   "source": [
    "X = data[:, 1:]\n",
    "Y = data[:, 0]\n",
    "\n",
    "X_test = test[:, 1:]\n",
    "Y_test = test[:, 0]\n"
   ]
  },
  {
   "cell_type": "code",
   "execution_count": 5,
   "metadata": {},
   "outputs": [
    {
     "name": "stdout",
     "output_type": "stream",
     "text": [
      "label =  7\n"
     ]
    },
    {
     "data": {
      "image/png": "[encoded data removed]",
      "text/plain": [
       "<Figure size 432x288 with 1 Axes>"
      ]
     },
     "metadata": {
      "needs_background": "light"
     },
     "output_type": "display_data"
    }
   ],
   "source": [
    "i = 55\n",
    "img = X[i].reshape(28,28)\n",
    "plt.imshow(img, cmap='gray')\n",
    "print('label = ', Y[i])"
   ]
  },
  {
   "cell_type": "code",
   "execution_count": 6,
   "metadata": {},
   "outputs": [],
   "source": [
    "X_data_std = X/255\n",
    "X_test_std = X_test/255"
   ]
  },
  {
   "cell_type": "code",
   "execution_count": 48,
   "metadata": {},
   "outputs": [],
   "source": [
    "X_train = X_data_std[:48000]\n",
    "X_val = X_data_std[48000:60000]\n",
    "\n",
    "Y_train = Y[:48000]\n",
    "Y_val = Y[48000:60000]"
   ]
  },
  {
   "cell_type": "markdown",
   "metadata": {},
   "source": [
    "# Logistic Regression"
   ]
  },
  {
   "cell_type": "code",
   "execution_count": null,
   "metadata": {},
   "outputs": [
    {
     "name": "stderr",
     "output_type": "stream",
     "text": [
      "[Parallel(n_jobs=-1)]: Using backend LokyBackend with 8 concurrent workers.\n",
      "[Parallel(n_jobs=-1)]: Done   6 out of  10 | elapsed:   32.8s remaining:   21.9s\n",
      "[Parallel(n_jobs=-1)]: Done  10 out of  10 | elapsed:   40.7s finished\n",
      "[Parallel(n_jobs=-1)]: Using backend LokyBackend with 8 concurrent workers.\n",
      "[Parallel(n_jobs=-1)]: Done   6 out of  10 | elapsed:   39.9s remaining:   26.5s\n",
      "[Parallel(n_jobs=-1)]: Done  10 out of  10 | elapsed:   49.0s finished\n",
      "[Parallel(n_jobs=-1)]: Using backend LokyBackend with 8 concurrent workers.\n",
      "[Parallel(n_jobs=-1)]: Done   6 out of  10 | elapsed:   35.5s remaining:   23.6s\n",
      "[Parallel(n_jobs=-1)]: Done  10 out of  10 | elapsed:   46.5s finished\n",
      "[Parallel(n_jobs=-1)]: Using backend LokyBackend with 8 concurrent workers.\n",
      "[Parallel(n_jobs=-1)]: Done   6 out of  10 | elapsed:   38.8s remaining:   25.8s\n",
      "[Parallel(n_jobs=-1)]: Done  10 out of  10 | elapsed:   47.9s finished\n",
      "[Parallel(n_jobs=-1)]: Using backend LokyBackend with 8 concurrent workers.\n",
      "[Parallel(n_jobs=-1)]: Done   6 out of  10 | elapsed:   38.3s remaining:   25.5s\n",
      "[Parallel(n_jobs=-1)]: Done  10 out of  10 | elapsed:   48.6s finished\n",
      "[Parallel(n_jobs=-1)]: Using backend LokyBackend with 8 concurrent workers.\n",
      "[Parallel(n_jobs=-1)]: Done   6 out of  10 | elapsed:   36.3s remaining:   24.2s\n",
      "[Parallel(n_jobs=-1)]: Done  10 out of  10 | elapsed:   48.0s finished\n",
      "[Parallel(n_jobs=-1)]: Using backend LokyBackend with 8 concurrent workers.\n",
      "[Parallel(n_jobs=-1)]: Done   6 out of  10 | elapsed:   37.1s remaining:   24.7s\n",
      "[Parallel(n_jobs=-1)]: Done  10 out of  10 | elapsed:   48.8s finished\n",
      "[Parallel(n_jobs=-1)]: Using backend LokyBackend with 8 concurrent workers.\n",
      "[Parallel(n_jobs=-1)]: Done   6 out of  10 | elapsed:   37.2s remaining:   24.8s\n",
      "[Parallel(n_jobs=-1)]: Done  10 out of  10 | elapsed:   47.1s finished\n",
      "[Parallel(n_jobs=-1)]: Using backend LokyBackend with 8 concurrent workers.\n",
      "[Parallel(n_jobs=-1)]: Done   6 out of  10 | elapsed:   37.8s remaining:   25.2s\n",
      "[Parallel(n_jobs=-1)]: Done  10 out of  10 | elapsed:   47.8s finished\n",
      "[Parallel(n_jobs=-1)]: Using backend LokyBackend with 8 concurrent workers.\n",
      "[Parallel(n_jobs=-1)]: Done   6 out of  10 | elapsed:   36.0s remaining:   23.9s\n",
      "[Parallel(n_jobs=-1)]: Done  10 out of  10 | elapsed:   47.0s finished\n",
      "[Parallel(n_jobs=-1)]: Using backend LokyBackend with 8 concurrent workers.\n",
      "[Parallel(n_jobs=-1)]: Done   6 out of  10 | elapsed:   37.5s remaining:   25.0s\n",
      "[Parallel(n_jobs=-1)]: Done  10 out of  10 | elapsed:   45.1s finished\n",
      "[Parallel(n_jobs=-1)]: Using backend LokyBackend with 8 concurrent workers.\n",
      "[Parallel(n_jobs=-1)]: Done   6 out of  10 | elapsed:   35.7s remaining:   23.8s\n",
      "[Parallel(n_jobs=-1)]: Done  10 out of  10 | elapsed:   46.7s finished\n",
      "[Parallel(n_jobs=-1)]: Using backend LokyBackend with 8 concurrent workers.\n",
      "[Parallel(n_jobs=-1)]: Done   6 out of  10 | elapsed:   37.6s remaining:   25.0s\n",
      "[Parallel(n_jobs=-1)]: Done  10 out of  10 | elapsed:   47.6s finished\n",
      "[Parallel(n_jobs=-1)]: Using backend LokyBackend with 8 concurrent workers.\n",
      "[Parallel(n_jobs=-1)]: Done   6 out of  10 | elapsed:   38.8s remaining:   25.8s\n",
      "[Parallel(n_jobs=-1)]: Done  10 out of  10 | elapsed:   46.4s finished\n",
      "[Parallel(n_jobs=-1)]: Using backend LokyBackend with 8 concurrent workers.\n",
      "[Parallel(n_jobs=-1)]: Done   6 out of  10 | elapsed:   36.7s remaining:   24.4s\n",
      "[Parallel(n_jobs=-1)]: Done  10 out of  10 | elapsed:   46.9s finished\n",
      "[Parallel(n_jobs=-1)]: Using backend LokyBackend with 8 concurrent workers.\n",
      "[Parallel(n_jobs=-1)]: Done   6 out of  10 | elapsed:   41.6s remaining:   27.7s\n",
      "[Parallel(n_jobs=-1)]: Done  10 out of  10 | elapsed:   52.4s finished\n",
      "[Parallel(n_jobs=-1)]: Using backend LokyBackend with 8 concurrent workers.\n",
      "[Parallel(n_jobs=-1)]: Done   6 out of  10 | elapsed:   37.7s remaining:   25.1s\n",
      "[Parallel(n_jobs=-1)]: Done  10 out of  10 | elapsed:   48.0s finished\n",
      "[Parallel(n_jobs=-1)]: Using backend LokyBackend with 8 concurrent workers.\n",
      "[Parallel(n_jobs=-1)]: Done   6 out of  10 | elapsed:   39.6s remaining:   26.4s\n",
      "[Parallel(n_jobs=-1)]: Done  10 out of  10 | elapsed:   48.7s finished\n",
      "[Parallel(n_jobs=-1)]: Using backend LokyBackend with 8 concurrent workers.\n",
      "[Parallel(n_jobs=-1)]: Done   6 out of  10 | elapsed:   39.4s remaining:   26.2s\n",
      "[Parallel(n_jobs=-1)]: Done  10 out of  10 | elapsed:   48.0s finished\n",
      "[Parallel(n_jobs=-1)]: Using backend LokyBackend with 8 concurrent workers.\n",
      "[Parallel(n_jobs=-1)]: Done   6 out of  10 | elapsed:   37.4s remaining:   24.9s\n",
      "[Parallel(n_jobs=-1)]: Done  10 out of  10 | elapsed:   48.8s finished\n",
      "[Parallel(n_jobs=-1)]: Using backend LokyBackend with 8 concurrent workers.\n",
      "[Parallel(n_jobs=-1)]: Done   6 out of  10 | elapsed:   33.3s remaining:   22.2s\n",
      "[Parallel(n_jobs=-1)]: Done  10 out of  10 | elapsed:   43.1s finished\n",
      "[Parallel(n_jobs=-1)]: Using backend LokyBackend with 8 concurrent workers.\n",
      "[Parallel(n_jobs=-1)]: Done   6 out of  10 | elapsed:   33.1s remaining:   22.1s\n",
      "[Parallel(n_jobs=-1)]: Done  10 out of  10 | elapsed:   41.6s finished\n",
      "[Parallel(n_jobs=-1)]: Using backend LokyBackend with 8 concurrent workers.\n",
      "[Parallel(n_jobs=-1)]: Done   6 out of  10 | elapsed:   32.6s remaining:   21.7s\n",
      "[Parallel(n_jobs=-1)]: Done  10 out of  10 | elapsed:   40.3s finished\n",
      "[Parallel(n_jobs=-1)]: Using backend LokyBackend with 8 concurrent workers.\n",
      "[Parallel(n_jobs=-1)]: Done   6 out of  10 | elapsed:   30.9s remaining:   20.6s\n",
      "[Parallel(n_jobs=-1)]: Done  10 out of  10 | elapsed:   40.6s finished\n",
      "[Parallel(n_jobs=-1)]: Using backend LokyBackend with 8 concurrent workers.\n",
      "[Parallel(n_jobs=-1)]: Done   6 out of  10 | elapsed:   38.7s remaining:   25.7s\n",
      "[Parallel(n_jobs=-1)]: Done  10 out of  10 | elapsed:   48.8s finished\n",
      "[Parallel(n_jobs=-1)]: Using backend LokyBackend with 8 concurrent workers.\n",
      "[Parallel(n_jobs=-1)]: Done   6 out of  10 | elapsed:   31.6s remaining:   21.0s\n",
      "[Parallel(n_jobs=-1)]: Done  10 out of  10 | elapsed:   41.6s finished\n",
      "[Parallel(n_jobs=-1)]: Using backend LokyBackend with 8 concurrent workers.\n",
      "[Parallel(n_jobs=-1)]: Done   6 out of  10 | elapsed:   36.1s remaining:   24.0s\n",
      "[Parallel(n_jobs=-1)]: Done  10 out of  10 | elapsed:   44.1s finished\n",
      "[Parallel(n_jobs=-1)]: Using backend LokyBackend with 8 concurrent workers.\n",
      "[Parallel(n_jobs=-1)]: Done   6 out of  10 | elapsed:   32.3s remaining:   21.5s\n",
      "[Parallel(n_jobs=-1)]: Done  10 out of  10 | elapsed:   43.4s finished\n",
      "[Parallel(n_jobs=-1)]: Using backend LokyBackend with 8 concurrent workers.\n"
     ]
    }
   ],
   "source": [
    "from sklearn.linear_model import LogisticRegression\n",
    "\n",
    "train_scores = []\n",
    "test_scores = []\n",
    "for c in np.arange(0.1, 100, 1):\n",
    "    clf = LogisticRegression(C=c, multi_class='ovr', class_weight='balance', verbose=1, penalty='l2', n_jobs = -1)\n",
    "    clf.fit(X_train, Y_train)\n",
    "    \n",
    "    train_scores.append(clf.score(X_train, Y_train))\n",
    "    test_scores.append(clf.score(X_test_std, Y_test))\n",
    "\n",
    "plt.plot(np.arange(0.1, 100, 1), np.array(train_scores), 'b-')\n",
    "plt.plot(np.arange(0.1, 100, 1), np.array(test_scores), 'r-')\n"
   ]
  },
  {
   "cell_type": "code",
   "execution_count": 8,
   "metadata": {},
   "outputs": [
    {
     "name": "stderr",
     "output_type": "stream",
     "text": [
      "[Parallel(n_jobs=-1)]: Using backend LokyBackend with 8 concurrent workers.\n",
      "[Parallel(n_jobs=-1)]: Done   6 out of  10 | elapsed:  9.2min remaining:  6.1min\n",
      "[Parallel(n_jobs=-1)]: Done  10 out of  10 | elapsed: 11.4min finished\n",
      "[Parallel(n_jobs=-1)]: Using backend LokyBackend with 8 concurrent workers.\n",
      "[Parallel(n_jobs=-1)]: Done   6 out of  10 | elapsed:   11.1s remaining:    7.4s\n",
      "[Parallel(n_jobs=-1)]: Done  10 out of  10 | elapsed:   15.7s finished\n",
      "[Parallel(n_jobs=-1)]: Using backend LokyBackend with 8 concurrent workers.\n",
      "[Parallel(n_jobs=-1)]: Done   6 out of  10 | elapsed:  1.2min remaining:   46.7s\n",
      "[Parallel(n_jobs=-1)]: Done  10 out of  10 | elapsed:  1.5min finished\n",
      "[Parallel(n_jobs=-1)]: Using backend LokyBackend with 8 concurrent workers.\n",
      "[Parallel(n_jobs=-1)]: Done   6 out of  10 | elapsed:  2.8min remaining:  1.8min\n",
      "[Parallel(n_jobs=-1)]: Done  10 out of  10 | elapsed:  3.6min finished\n",
      "[Parallel(n_jobs=-1)]: Using backend LokyBackend with 8 concurrent workers.\n",
      "[Parallel(n_jobs=-1)]: Done   6 out of  10 | elapsed:  4.9min remaining:  3.3min\n",
      "[Parallel(n_jobs=-1)]: Done  10 out of  10 | elapsed:  6.2min finished\n",
      "[Parallel(n_jobs=-1)]: Using backend LokyBackend with 8 concurrent workers.\n",
      "[Parallel(n_jobs=-1)]: Done   6 out of  10 | elapsed:  7.4min remaining:  4.9min\n",
      "[Parallel(n_jobs=-1)]: Done  10 out of  10 | elapsed:  8.9min finished\n",
      "[Parallel(n_jobs=-1)]: Using backend LokyBackend with 8 concurrent workers.\n",
      "[Parallel(n_jobs=-1)]: Done   6 out of  10 | elapsed:   11.8s remaining:    7.8s\n",
      "[Parallel(n_jobs=-1)]: Done  10 out of  10 | elapsed:   15.9s finished\n",
      "[Parallel(n_jobs=-1)]: Using backend LokyBackend with 8 concurrent workers.\n",
      "[Parallel(n_jobs=-1)]: Done   6 out of  10 | elapsed:  1.1min remaining:   45.4s\n",
      "[Parallel(n_jobs=-1)]: Done  10 out of  10 | elapsed:  1.5min finished\n",
      "[Parallel(n_jobs=-1)]: Using backend LokyBackend with 8 concurrent workers.\n",
      "[Parallel(n_jobs=-1)]: Done   6 out of  10 | elapsed:  2.8min remaining:  1.9min\n",
      "[Parallel(n_jobs=-1)]: Done  10 out of  10 | elapsed:  3.5min finished\n",
      "[Parallel(n_jobs=-1)]: Using backend LokyBackend with 8 concurrent workers.\n",
      "[Parallel(n_jobs=-1)]: Done   6 out of  10 | elapsed:  4.7min remaining:  3.1min\n",
      "[Parallel(n_jobs=-1)]: Done  10 out of  10 | elapsed:  5.9min finished\n",
      "[Parallel(n_jobs=-1)]: Using backend LokyBackend with 8 concurrent workers.\n",
      "[Parallel(n_jobs=-1)]: Done   6 out of  10 | elapsed:  6.9min remaining:  4.6min\n",
      "[Parallel(n_jobs=-1)]: Done  10 out of  10 | elapsed:  8.4min finished\n",
      "[Parallel(n_jobs=-1)]: Using backend LokyBackend with 8 concurrent workers.\n",
      "[Parallel(n_jobs=-1)]: Done   6 out of  10 | elapsed:   12.0s remaining:    8.0s\n",
      "[Parallel(n_jobs=-1)]: Done  10 out of  10 | elapsed:   16.0s finished\n",
      "[Parallel(n_jobs=-1)]: Using backend LokyBackend with 8 concurrent workers.\n",
      "[Parallel(n_jobs=-1)]: Done   6 out of  10 | elapsed:  1.2min remaining:   47.2s\n",
      "[Parallel(n_jobs=-1)]: Done  10 out of  10 | elapsed:  1.5min finished\n",
      "[Parallel(n_jobs=-1)]: Using backend LokyBackend with 8 concurrent workers.\n",
      "[Parallel(n_jobs=-1)]: Done   6 out of  10 | elapsed:  2.9min remaining:  1.9min\n",
      "[Parallel(n_jobs=-1)]: Done  10 out of  10 | elapsed:  3.6min finished\n",
      "[Parallel(n_jobs=-1)]: Using backend LokyBackend with 8 concurrent workers.\n",
      "[Parallel(n_jobs=-1)]: Done   6 out of  10 | elapsed:  5.4min remaining:  3.6min\n",
      "[Parallel(n_jobs=-1)]: Done  10 out of  10 | elapsed:  6.4min finished\n",
      "[Parallel(n_jobs=-1)]: Using backend LokyBackend with 8 concurrent workers.\n",
      "[Parallel(n_jobs=-1)]: Done   6 out of  10 | elapsed:  7.0min remaining:  4.7min\n",
      "[Parallel(n_jobs=-1)]: Done  10 out of  10 | elapsed:  8.6min finished\n",
      "[Parallel(n_jobs=-1)]: Using backend LokyBackend with 8 concurrent workers.\n",
      "[Parallel(n_jobs=-1)]: Done   6 out of  10 | elapsed:   11.9s remaining:    7.9s\n",
      "[Parallel(n_jobs=-1)]: Done  10 out of  10 | elapsed:   15.8s finished\n",
      "[Parallel(n_jobs=-1)]: Using backend LokyBackend with 8 concurrent workers.\n",
      "[Parallel(n_jobs=-1)]: Done   6 out of  10 | elapsed:  1.2min remaining:   46.6s\n",
      "[Parallel(n_jobs=-1)]: Done  10 out of  10 | elapsed:  1.5min finished\n",
      "[Parallel(n_jobs=-1)]: Using backend LokyBackend with 8 concurrent workers.\n",
      "[Parallel(n_jobs=-1)]: Done   6 out of  10 | elapsed:  2.9min remaining:  1.9min\n",
      "[Parallel(n_jobs=-1)]: Done  10 out of  10 | elapsed:  3.6min finished\n",
      "[Parallel(n_jobs=-1)]: Using backend LokyBackend with 8 concurrent workers.\n",
      "[Parallel(n_jobs=-1)]: Done   6 out of  10 | elapsed:  4.9min remaining:  3.3min\n",
      "[Parallel(n_jobs=-1)]: Done  10 out of  10 | elapsed:  6.1min finished\n",
      "[Parallel(n_jobs=-1)]: Using backend LokyBackend with 8 concurrent workers.\n",
      "[Parallel(n_jobs=-1)]: Done   6 out of  10 | elapsed:  6.9min remaining:  4.6min\n",
      "[Parallel(n_jobs=-1)]: Done  10 out of  10 | elapsed: 10.8min finished\n",
      "[Parallel(n_jobs=-1)]: Using backend LokyBackend with 8 concurrent workers.\n",
      "[Parallel(n_jobs=-1)]: Done   6 out of  10 | elapsed:   13.1s remaining:    8.7s\n",
      "[Parallel(n_jobs=-1)]: Done  10 out of  10 | elapsed:   17.2s finished\n",
      "[Parallel(n_jobs=-1)]: Using backend LokyBackend with 8 concurrent workers.\n",
      "[Parallel(n_jobs=-1)]: Done   6 out of  10 | elapsed:  1.3min remaining:   52.1s\n",
      "[Parallel(n_jobs=-1)]: Done  10 out of  10 | elapsed:  1.7min finished\n",
      "[Parallel(n_jobs=-1)]: Using backend LokyBackend with 8 concurrent workers.\n",
      "[Parallel(n_jobs=-1)]: Done   6 out of  10 | elapsed:  3.3min remaining:  2.2min\n",
      "[Parallel(n_jobs=-1)]: Done  10 out of  10 | elapsed:  4.2min finished\n",
      "[Parallel(n_jobs=-1)]: Using backend LokyBackend with 8 concurrent workers.\n",
      "[Parallel(n_jobs=-1)]: Done   6 out of  10 | elapsed:  5.4min remaining:  3.6min\n",
      "[Parallel(n_jobs=-1)]: Done  10 out of  10 | elapsed:  6.8min finished\n",
      "[Parallel(n_jobs=-1)]: Using backend LokyBackend with 8 concurrent workers.\n",
      "[Parallel(n_jobs=-1)]: Done   6 out of  10 | elapsed:  7.1min remaining:  4.7min\n",
      "[Parallel(n_jobs=-1)]: Done  10 out of  10 | elapsed:  9.0min finished\n"
     ]
    },
    {
     "data": {
      "text/plain": [
       "[<matplotlib.lines.Line2D at 0x1f403d9a400>]"
      ]
     },
     "execution_count": 8,
     "metadata": {},
     "output_type": "execute_result"
    },
    {
     "data": {
      "image/png": "[encoded data removed]",
      "text/plain": [
       "<Figure size 432x288 with 1 Axes>"
      ]
     },
     "metadata": {
      "needs_background": "light"
     },
     "output_type": "display_data"
    }
   ],
   "source": [
    "from sklearn.linear_model import LogisticRegression\n",
    "from sklearn.model_selection import learning_curve\n",
    "\n",
    "clf = LogisticRegression(C=0.1, multi_class='ovr', class_weight='balance', verbose=1, penalty='l2', n_jobs = -1)\n",
    "clf.fit(X_train, Y_train)\n",
    "\n",
    "# Overfitting and Underfitting\n",
    "train_sizes, train_score, test_score = learning_curve(clf, X_train, Y_train, cv=5)\n",
    "plt.plot(train_sizes, train_score.mean(axis=1), 'go-')\n",
    "plt.plot(train_sizes, test_score.mean(axis=1), 'bo-')"
   ]
  },
  {
   "cell_type": "code",
   "execution_count": 11,
   "metadata": {},
   "outputs": [
    {
     "name": "stdout",
     "output_type": "stream",
     "text": [
      "validation precision: 0.9093707953222966\n"
     ]
    }
   ],
   "source": [
    "# Final Precision on Validation Dataset\n",
    "h_val = clf.predict(X_val)\n",
    "print('validation precision:', precision_score(Y_val, h_val, average='weighted'))"
   ]
  },
  {
   "cell_type": "markdown",
   "metadata": {},
   "source": [
    "# SVM"
   ]
  },
  {
   "cell_type": "code",
   "execution_count": null,
   "metadata": {},
   "outputs": [],
   "source": [
    "from sklearn.svm import SVC\n",
    "\n",
    "train_scores = []\n",
    "test_scores = []\n",
    "for c in np.arange(0.1, 10, 0.5):\n",
    "    clf = SVC(C=c, kernel='rbf', class_weight='balanced')\n",
    "    clf.fit(X_train, Y_train)\n",
    "    \n",
    "    train_scores.append(clf.score(X_train, Y_train))\n",
    "    test_scores.append(clf.score(X_test_std, Y_test))\n",
    "\n",
    "plt.plot(np.arange(0.1, 10, 1), np.array(train_scores), 'b-')\n",
    "plt.plot(np.arange(0.1, 10, 1), np.array(test_scores), 'r-')"
   ]
  },
  {
   "cell_type": "code",
   "execution_count": 14,
   "metadata": {},
   "outputs": [
    {
     "name": "stdout",
     "output_type": "stream",
     "text": [
      "0.9845833333333334\n",
      "0.951\n"
     ]
    },
    {
     "data": {
      "image/png": "[encoded data removed]",
      "text/plain": [
       "<Figure size 432x288 with 1 Axes>"
      ]
     },
     "metadata": {
      "needs_background": "light"
     },
     "output_type": "display_data"
    }
   ],
   "source": [
    "from sklearn.svm import SVC\n",
    "\n",
    "clf = SVC(C=1, kernel='rbf', class_weight='balanced')\n",
    "clf.fit(X_train, Y_train)\n",
    "\n",
    "# Overfitting and Underfitting\n",
    "train_sizes, train_score, test_score = learning_curve(clf, X_train, Y_train, cv=5)\n",
    "plt.plot(train_sizes, train_score.mean(axis=1), 'go-')\n",
    "plt.plot(train_sizes, test_score.mean(axis=1), 'bo-')\n",
    "\n",
    "print(clf.score(X_train, Y_train))\n",
    "print(clf.score(X_test_std, Y_test))"
   ]
  },
  {
   "cell_type": "code",
   "execution_count": 16,
   "metadata": {},
   "outputs": [
    {
     "name": "stdout",
     "output_type": "stream",
     "text": [
      "validation precision: 0.9557839260802117\n"
     ]
    }
   ],
   "source": [
    "# Final Precision on Validation Dataset\n",
    "h_val = clf.predict(X_val)\n",
    "print('validation precision:', precision_score(Y_val, h_val, average='weighted'))"
   ]
  },
  {
   "cell_type": "markdown",
   "metadata": {},
   "source": [
    "# KNN"
   ]
  },
  {
   "cell_type": "code",
   "execution_count": null,
   "metadata": {
    "scrolled": false
   },
   "outputs": [],
   "source": [
    "from sklearn.neighbors import KNeighborsClassifier\n",
    "\n",
    "train_scores = []\n",
    "test_scores = []\n",
    "for k in range(1, 100,5):\n",
    "    clf = KNeighborsClassifier(n_neighbors=k, weights='uniform', n_jobs=-1)\n",
    "    clf.fit(X_train, Y_train)\n",
    "    \n",
    "    train_scores.append(clf.score(X_train, Y_train))\n",
    "    test_scores.append(clf.score(X_test_std, Y_test))\n",
    "\n",
    "plt.plot(np.arange(1, 100, 5), np.array(train_scores), 'b-')\n",
    "plt.plot(np.arange(1, 100, 5), np.array(test_scores), 'r-')"
   ]
  },
  {
   "cell_type": "code",
   "execution_count": 17,
   "metadata": {},
   "outputs": [
    {
     "data": {
      "text/plain": [
       "[<matplotlib.lines.Line2D at 0x1f404b286a0>]"
      ]
     },
     "execution_count": 17,
     "metadata": {},
     "output_type": "execute_result"
    },
    {
     "data": {
      "image/png": "[encoded data removed]",
      "text/plain": [
       "<Figure size 432x288 with 1 Axes>"
      ]
     },
     "metadata": {
      "needs_background": "light"
     },
     "output_type": "display_data"
    }
   ],
   "source": [
    "from sklearn.neighbors import KNeighborsClassifier\n",
    "\n",
    "clf = KNeighborsClassifier(n_neighbors=5, weights='uniform', n_jobs=-1)\n",
    "clf.fit(X_train, Y_train)\n",
    "\n",
    "# Overfitting and Underfitting\n",
    "train_sizes, train_score, test_score = learning_curve(clf, X_train, Y_train, cv=5)\n",
    "plt.plot(train_sizes, train_score.mean(axis=1), 'go-')\n",
    "plt.plot(train_sizes, test_score.mean(axis=1), 'bo-')"
   ]
  },
  {
   "cell_type": "code",
   "execution_count": 18,
   "metadata": {},
   "outputs": [
    {
     "name": "stdout",
     "output_type": "stream",
     "text": [
      "validation precision: 0.9488780480859509\n"
     ]
    }
   ],
   "source": [
    "# Final Precision on Validation Dataset\n",
    "h_val = clf.predict(X_val)\n",
    "print('validation precision:', precision_score(Y_val, h_val, average='weighted'))"
   ]
  },
  {
   "cell_type": "markdown",
   "metadata": {},
   "source": [
    "# Decision Tree"
   ]
  },
  {
   "cell_type": "code",
   "execution_count": null,
   "metadata": {},
   "outputs": [],
   "source": [
    "from sklearn.tree import DecisionTreeClassifier\n",
    "\n",
    "train_scores = []\n",
    "test_scores = []\n",
    "for d in range(1, 14):\n",
    "    clf = DecisionTreeClassifier(max_depth=d, class_weight='balanced')\n",
    "    clf.fit(X_train, Y_train)\n",
    "    \n",
    "    train_scores.append(clf.score(X_train, Y_train))\n",
    "    test_scores.append(clf.score(X_test_std, Y_test))\n",
    "\n",
    "plt.plot(np.arange(1, 14, 1), np.array(train_scores), 'b-')\n",
    "plt.plot(np.arange(1, 14, 1), np.array(test_scores), 'r-')"
   ]
  },
  {
   "cell_type": "code",
   "execution_count": 19,
   "metadata": {},
   "outputs": [
    {
     "data": {
      "text/plain": [
       "[<matplotlib.lines.Line2D at 0x1f404008640>]"
      ]
     },
     "execution_count": 19,
     "metadata": {},
     "output_type": "execute_result"
    },
    {
     "data": {
      "image/png": "[encoded data removed]",
      "text/plain": [
       "<Figure size 432x288 with 1 Axes>"
      ]
     },
     "metadata": {
      "needs_background": "light"
     },
     "output_type": "display_data"
    }
   ],
   "source": [
    "from sklearn.tree import DecisionTreeClassifier\n",
    "\n",
    "clf = DecisionTreeClassifier(max_depth=7, class_weight='balanced')\n",
    "clf.fit(X_train, Y_train)\n",
    "\n",
    "# Overfitting and Underfitting\n",
    "train_sizes, train_score, test_score = learning_curve(clf, X_train, Y_train, cv=5)\n",
    "plt.plot(train_sizes, train_score.mean(axis=1), 'go-')\n",
    "plt.plot(train_sizes, test_score.mean(axis=1), 'bo-')"
   ]
  },
  {
   "cell_type": "code",
   "execution_count": 21,
   "metadata": {},
   "outputs": [
    {
     "name": "stdout",
     "output_type": "stream",
     "text": [
      "validation precision: 0.7830174859231471\n"
     ]
    }
   ],
   "source": [
    "# Final Precision on Validation Dataset\n",
    "h_val = clf.predict(X_val)\n",
    "print('validation precision:', precision_score(Y_val, h_val, average='weighted'))"
   ]
  },
  {
   "cell_type": "markdown",
   "metadata": {},
   "source": [
    "# Random Forest"
   ]
  },
  {
   "cell_type": "code",
   "execution_count": null,
   "metadata": {},
   "outputs": [],
   "source": [
    "from sklearn.ensemble import RandomForestClassifier\n",
    "\n",
    "train_acc = []\n",
    "test_acc = []\n",
    "\n",
    "for n in range(1, 200, 10):\n",
    "    clf = RandomForestClassifier(n_estimators=n, max_depth=7, class_weight='balanced', criterion='entropy', n_jobs=-1)\n",
    "    clf.fit(X_train, Y_train)\n",
    "    \n",
    "    train_acc.append(clf.score(X_train, Y_train))\n",
    "    test_acc.append(clf.score(X_test_std, Y_test))\n",
    "    \n",
    "plt.plot(train_acc, 'b-')\n",
    "plt.plot(test_acc, 'r-')"
   ]
  },
  {
   "cell_type": "code",
   "execution_count": 22,
   "metadata": {},
   "outputs": [
    {
     "data": {
      "text/plain": [
       "[<matplotlib.lines.Line2D at 0x1f403fd7100>]"
      ]
     },
     "execution_count": 22,
     "metadata": {},
     "output_type": "execute_result"
    },
    {
     "data": {
      "image/png": "[encoded data removed]",
      "text/plain": [
       "<Figure size 432x288 with 1 Axes>"
      ]
     },
     "metadata": {
      "needs_background": "light"
     },
     "output_type": "display_data"
    }
   ],
   "source": [
    "from sklearn.ensemble import RandomForestClassifier\n",
    "\n",
    "clf = RandomForestClassifier(n_estimators=10, max_depth=7, class_weight='balanced', criterion='entropy', n_jobs=-1)\n",
    "clf.fit(X_train, Y_train)\n",
    "\n",
    "# Overfitting and Underfitting\n",
    "train_sizes, train_score, test_score = learning_curve(clf, X_train, Y_train, cv=5)\n",
    "plt.plot(train_sizes, train_score.mean(axis=1), 'go-')\n",
    "plt.plot(train_sizes, test_score.mean(axis=1), 'bo-')"
   ]
  },
  {
   "cell_type": "code",
   "execution_count": 23,
   "metadata": {},
   "outputs": [
    {
     "name": "stdout",
     "output_type": "stream",
     "text": [
      "validation precision: 0.8822661326707876\n"
     ]
    }
   ],
   "source": [
    "# Final Precision on Validation Dataset\n",
    "h_val = clf.predict(X_val)\n",
    "print('validation precision:', precision_score(Y_val, h_val, average='weighted'))"
   ]
  },
  {
   "cell_type": "markdown",
   "metadata": {},
   "source": [
    "# Neural Networks"
   ]
  },
  {
   "cell_type": "code",
   "execution_count": null,
   "metadata": {},
   "outputs": [],
   "source": [
    "from sklearn.neural_network import MLPClassifier\n",
    "\n",
    "train_acc = []\n",
    "test_acc = []\n",
    "\n",
    "for n in range(5, 200, 10):\n",
    "    clf = MLPClassifier(hidden_layer_sizes=(n,), activation='relu', solver='adam', learning_rate='constant')\n",
    "    clf.fit(X_train, Y_train)\n",
    "    \n",
    "    train_acc.append(clf.score(X_train, Y_train))\n",
    "    test_acc.append(clf.score(X_test_std, Y_test))\n",
    "    \n",
    "plt.plot(train_acc, 'b-')\n",
    "plt.plot(test_acc, 'r-')"
   ]
  },
  {
   "cell_type": "code",
   "execution_count": 24,
   "metadata": {},
   "outputs": [
    {
     "name": "stderr",
     "output_type": "stream",
     "text": [
      "C:\\Users\\Atousa\\anaconda3\\lib\\site-packages\\sklearn\\neural_network\\_multilayer_perceptron.py:582: ConvergenceWarning: Stochastic Optimizer: Maximum iterations (200) reached and the optimization hasn't converged yet.\n",
      "  warnings.warn(\n",
      "C:\\Users\\Atousa\\anaconda3\\lib\\site-packages\\sklearn\\neural_network\\_multilayer_perceptron.py:582: ConvergenceWarning: Stochastic Optimizer: Maximum iterations (200) reached and the optimization hasn't converged yet.\n",
      "  warnings.warn(\n",
      "C:\\Users\\Atousa\\anaconda3\\lib\\site-packages\\sklearn\\neural_network\\_multilayer_perceptron.py:582: ConvergenceWarning: Stochastic Optimizer: Maximum iterations (200) reached and the optimization hasn't converged yet.\n",
      "  warnings.warn(\n",
      "C:\\Users\\Atousa\\anaconda3\\lib\\site-packages\\sklearn\\neural_network\\_multilayer_perceptron.py:582: ConvergenceWarning: Stochastic Optimizer: Maximum iterations (200) reached and the optimization hasn't converged yet.\n",
      "  warnings.warn(\n",
      "C:\\Users\\Atousa\\anaconda3\\lib\\site-packages\\sklearn\\neural_network\\_multilayer_perceptron.py:582: ConvergenceWarning: Stochastic Optimizer: Maximum iterations (200) reached and the optimization hasn't converged yet.\n",
      "  warnings.warn(\n",
      "C:\\Users\\Atousa\\anaconda3\\lib\\site-packages\\sklearn\\neural_network\\_multilayer_perceptron.py:582: ConvergenceWarning: Stochastic Optimizer: Maximum iterations (200) reached and the optimization hasn't converged yet.\n",
      "  warnings.warn(\n",
      "C:\\Users\\Atousa\\anaconda3\\lib\\site-packages\\sklearn\\neural_network\\_multilayer_perceptron.py:582: ConvergenceWarning: Stochastic Optimizer: Maximum iterations (200) reached and the optimization hasn't converged yet.\n",
      "  warnings.warn(\n",
      "C:\\Users\\Atousa\\anaconda3\\lib\\site-packages\\sklearn\\neural_network\\_multilayer_perceptron.py:582: ConvergenceWarning: Stochastic Optimizer: Maximum iterations (200) reached and the optimization hasn't converged yet.\n",
      "  warnings.warn(\n",
      "C:\\Users\\Atousa\\anaconda3\\lib\\site-packages\\sklearn\\neural_network\\_multilayer_perceptron.py:582: ConvergenceWarning: Stochastic Optimizer: Maximum iterations (200) reached and the optimization hasn't converged yet.\n",
      "  warnings.warn(\n",
      "C:\\Users\\Atousa\\anaconda3\\lib\\site-packages\\sklearn\\neural_network\\_multilayer_perceptron.py:582: ConvergenceWarning: Stochastic Optimizer: Maximum iterations (200) reached and the optimization hasn't converged yet.\n",
      "  warnings.warn(\n",
      "C:\\Users\\Atousa\\anaconda3\\lib\\site-packages\\sklearn\\neural_network\\_multilayer_perceptron.py:582: ConvergenceWarning: Stochastic Optimizer: Maximum iterations (200) reached and the optimization hasn't converged yet.\n",
      "  warnings.warn(\n",
      "C:\\Users\\Atousa\\anaconda3\\lib\\site-packages\\sklearn\\neural_network\\_multilayer_perceptron.py:582: ConvergenceWarning: Stochastic Optimizer: Maximum iterations (200) reached and the optimization hasn't converged yet.\n",
      "  warnings.warn(\n",
      "C:\\Users\\Atousa\\anaconda3\\lib\\site-packages\\sklearn\\neural_network\\_multilayer_perceptron.py:582: ConvergenceWarning: Stochastic Optimizer: Maximum iterations (200) reached and the optimization hasn't converged yet.\n",
      "  warnings.warn(\n",
      "C:\\Users\\Atousa\\anaconda3\\lib\\site-packages\\sklearn\\neural_network\\_multilayer_perceptron.py:582: ConvergenceWarning: Stochastic Optimizer: Maximum iterations (200) reached and the optimization hasn't converged yet.\n",
      "  warnings.warn(\n",
      "C:\\Users\\Atousa\\anaconda3\\lib\\site-packages\\sklearn\\neural_network\\_multilayer_perceptron.py:582: ConvergenceWarning: Stochastic Optimizer: Maximum iterations (200) reached and the optimization hasn't converged yet.\n",
      "  warnings.warn(\n",
      "C:\\Users\\Atousa\\anaconda3\\lib\\site-packages\\sklearn\\neural_network\\_multilayer_perceptron.py:582: ConvergenceWarning: Stochastic Optimizer: Maximum iterations (200) reached and the optimization hasn't converged yet.\n",
      "  warnings.warn(\n",
      "C:\\Users\\Atousa\\anaconda3\\lib\\site-packages\\sklearn\\neural_network\\_multilayer_perceptron.py:582: ConvergenceWarning: Stochastic Optimizer: Maximum iterations (200) reached and the optimization hasn't converged yet.\n",
      "  warnings.warn(\n",
      "C:\\Users\\Atousa\\anaconda3\\lib\\site-packages\\sklearn\\neural_network\\_multilayer_perceptron.py:582: ConvergenceWarning: Stochastic Optimizer: Maximum iterations (200) reached and the optimization hasn't converged yet.\n",
      "  warnings.warn(\n",
      "C:\\Users\\Atousa\\anaconda3\\lib\\site-packages\\sklearn\\neural_network\\_multilayer_perceptron.py:582: ConvergenceWarning: Stochastic Optimizer: Maximum iterations (200) reached and the optimization hasn't converged yet.\n",
      "  warnings.warn(\n",
      "C:\\Users\\Atousa\\anaconda3\\lib\\site-packages\\sklearn\\neural_network\\_multilayer_perceptron.py:582: ConvergenceWarning: Stochastic Optimizer: Maximum iterations (200) reached and the optimization hasn't converged yet.\n",
      "  warnings.warn(\n",
      "C:\\Users\\Atousa\\anaconda3\\lib\\site-packages\\sklearn\\neural_network\\_multilayer_perceptron.py:582: ConvergenceWarning: Stochastic Optimizer: Maximum iterations (200) reached and the optimization hasn't converged yet.\n",
      "  warnings.warn(\n",
      "C:\\Users\\Atousa\\anaconda3\\lib\\site-packages\\sklearn\\neural_network\\_multilayer_perceptron.py:582: ConvergenceWarning: Stochastic Optimizer: Maximum iterations (200) reached and the optimization hasn't converged yet.\n",
      "  warnings.warn(\n",
      "C:\\Users\\Atousa\\anaconda3\\lib\\site-packages\\sklearn\\neural_network\\_multilayer_perceptron.py:582: ConvergenceWarning: Stochastic Optimizer: Maximum iterations (200) reached and the optimization hasn't converged yet.\n",
      "  warnings.warn(\n"
     ]
    },
    {
     "data": {
      "text/plain": [
       "[<matplotlib.lines.Line2D at 0x1f404128520>]"
      ]
     },
     "execution_count": 24,
     "metadata": {},
     "output_type": "execute_result"
    },
    {
     "data": {
      "image/png": "[encoded data removed]",
      "text/plain": [
       "<Figure size 432x288 with 1 Axes>"
      ]
     },
     "metadata": {
      "needs_background": "light"
     },
     "output_type": "display_data"
    }
   ],
   "source": [
    "from sklearn.neural_network import MLPClassifier\n",
    "\n",
    "clf =  MLPClassifier(hidden_layer_sizes=(25,), activation='relu', solver='adam', learning_rate='constant')\n",
    "clf.fit(X_train, Y_train)\n",
    "\n",
    "# Overfitting and Underfitting\n",
    "train_sizes, train_score, test_score = learning_curve(clf, X_train, Y_train, cv=5)\n",
    "plt.plot(train_sizes, train_score.mean(axis=1), 'go-')\n",
    "plt.plot(train_sizes, test_score.mean(axis=1), 'bo-')"
   ]
  },
  {
   "cell_type": "code",
   "execution_count": 25,
   "metadata": {},
   "outputs": [
    {
     "name": "stdout",
     "output_type": "stream",
     "text": [
      "validation precision: 0.921939541188956\n"
     ]
    }
   ],
   "source": [
    "# Final Precision on Validation Dataset\n",
    "h_val = clf.predict(X_val)\n",
    "print('validation precision:', precision_score(Y_val, h_val, average='weighted'))"
   ]
  },
  {
   "cell_type": "markdown",
   "metadata": {},
   "source": [
    "# Testing Data on Final Model"
   ]
  },
  {
   "cell_type": "code",
   "execution_count": 35,
   "metadata": {},
   "outputs": [
    {
     "name": "stdout",
     "output_type": "stream",
     "text": [
      "test score: 0.951\n",
      "train score: 0.9845833333333334\n",
      "*****************************************\n",
      "test precision: 0.9509540597786336\n",
      "train precision: 0.9846683589115897\n",
      "*****************************************\n",
      "test recall: 0.951\n",
      "train recall: 0.9845833333333334\n",
      "*****************************************\n",
      "test f1-score: 0.9508937328824216\n",
      "train f1-score: 0.9845721976405908\n"
     ]
    },
    {
     "data": {
      "image/png": "[encoded data removed]",
      "text/plain": [
       "<Figure size 432x288 with 2 Axes>"
      ]
     },
     "metadata": {
      "needs_background": "light"
     },
     "output_type": "display_data"
    }
   ],
   "source": [
    "from sklearn.metrics import accuracy_score, precision_score, recall_score, f1_score, confusion_matrix, plot_confusion_matrix\n",
    "\n",
    "# First best\n",
    "clf = SVC(C=1, kernel='rbf', class_weight='balanced')\n",
    "clf.fit(X_train, Y_train)\n",
    "\n",
    "# Second best\n",
    "#clf = KNeighborsClassifier(n_neighbors=5, weights='uniform', n_jobs=-1)\n",
    "#clf.fit(X_train, Y_train)\n",
    "\n",
    "# Third best\n",
    "#clf =  MLPClassifier(hidden_layer_sizes=(25,), activation='relu', solver='adam', learning_rate='constant')\n",
    "#clf.fit(X_train, Y_train)\n",
    "\n",
    "h_train = clf.predict(X_train)\n",
    "h_test = clf.predict(X_test_std)\n",
    "\n",
    "# Precision, Recall, Accuracy, and f1_score\n",
    "print('test score:', clf.score(X_test_std, Y_test))\n",
    "print('train score:', clf.score(X_train, Y_train))\n",
    "print('*****************************************')\n",
    "print('test precision:', precision_score(Y_test, h_test, average='weighted'))\n",
    "print('train precision:', precision_score(Y_train, h_train, average='weighted'))\n",
    "print('*****************************************')\n",
    "print('test recall:', recall_score(Y_test, h_test, average='weighted'))\n",
    "print('train recall:', recall_score(Y_train, h_train, average='weighted'))\n",
    "print('*****************************************')\n",
    "print('test f1-score:', f1_score(Y_test, h_test, average='weighted'))\n",
    "print('train f1-score:', f1_score(Y_train, h_train, average='weighted'))\n",
    "\n",
    "#Confiusion Matrix\n",
    "class_names = ['0', '1', '2', '3', '4', '5', '6', '7', '8', '9']\n",
    "disp = plot_confusion_matrix(clf, X_test_std, Y_test, display_labels = class_names)"
   ]
  },
  {
   "cell_type": "code",
   "execution_count": 38,
   "metadata": {},
   "outputs": [
    {
     "name": "stdout",
     "output_type": "stream",
     "text": [
      "0.8683333333333333\n",
      "0.863\n"
     ]
    }
   ],
   "source": [
    "# Bagging\n",
    "\n",
    "from sklearn.ensemble import BaggingClassifier\n",
    "\n",
    "clf = BaggingClassifier(SVC(C=1, kernel='rbf', class_weight='balanced'), n_estimators=10, max_samples=150, n_jobs=-1)\n",
    "clf.fit(X_train, Y_train)\n",
    "print(clf.score(X_train, Y_train))\n",
    "print(clf.score(X_test_std, Y_test))\n"
   ]
  },
  {
   "cell_type": "code",
   "execution_count": 45,
   "metadata": {},
   "outputs": [
    {
     "name": "stdout",
     "output_type": "stream",
     "text": [
      "0.735\n",
      "0.7124\n"
     ]
    }
   ],
   "source": [
    "# Boosting\n",
    "\n",
    "from sklearn.ensemble import AdaBoostClassifier\n",
    "\n",
    "clf = AdaBoostClassifier (base_estimator=None , n_estimators=50, learning_rate=1.0, algorithm='SAMME.R', random_state=None)\n",
    "clf.fit(X_train, Y_train)\n",
    "print(clf.score(X_train, Y_train))\n",
    "print(clf.score(X_test_std, Y_test))"
   ]
  },
  {
   "cell_type": "code",
   "execution_count": null,
   "metadata": {},
   "outputs": [],
   "source": []
  }
 ],
 "metadata": {
  "kernelspec": {
   "display_name": "Python 3",
   "language": "python",
   "name": "python3"
  },
  "language_info": {
   "codemirror_mode": {
    "name": "ipython",
    "version": 3
   },
   "file_extension": ".py",
   "mimetype": "text/x-python",
   "name": "python",
   "nbconvert_exporter": "python",
   "pygments_lexer": "ipython3",
   "version": "3.8.3"
  }
 },
 "nbformat": 4,
 "nbformat_minor": 4
}
